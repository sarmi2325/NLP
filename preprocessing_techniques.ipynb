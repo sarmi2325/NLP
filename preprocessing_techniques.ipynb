{
  "nbformat": 4,
  "nbformat_minor": 0,
  "metadata": {
    "colab": {
      "provenance": []
    },
    "kernelspec": {
      "name": "python3",
      "display_name": "Python 3"
    },
    "language_info": {
      "name": "python"
    }
  },
  "cells": [
    {
      "cell_type": "code",
      "execution_count": 1,
      "metadata": {
        "colab": {
          "base_uri": "https://localhost:8080/"
        },
        "id": "VQ5dSIlFBIEB",
        "outputId": "69b7dec1-de59-4d98-8489-d2235d76b194"
      },
      "outputs": [
        {
          "output_type": "stream",
          "name": "stdout",
          "text": [
            "\u001b[?25l     \u001b[90m━━━━━━━━━━━━━━━━━━━━━━━━━━━━━━━━━━━━━━━━\u001b[0m \u001b[32m0.0/981.5 kB\u001b[0m \u001b[31m?\u001b[0m eta \u001b[36m-:--:--\u001b[0m\r\u001b[2K     \u001b[91m━━━━━━━━━━━━━━━━━━━━━━━━━━\u001b[0m\u001b[91m╸\u001b[0m\u001b[90m━━━━━━━━━━━\u001b[0m \u001b[32m696.3/981.5 kB\u001b[0m \u001b[31m21.0 MB/s\u001b[0m eta \u001b[36m0:00:01\u001b[0m\r\u001b[2K     \u001b[90m━━━━━━━━━━━━━━━━━━━━━━━━━━━━━━━━━━━━━━\u001b[0m \u001b[32m981.5/981.5 kB\u001b[0m \u001b[31m18.9 MB/s\u001b[0m eta \u001b[36m0:00:00\u001b[0m\n",
            "\u001b[?25h  Preparing metadata (setup.py) ... \u001b[?25l\u001b[?25hdone\n",
            "\u001b[2K   \u001b[90m━━━━━━━━━━━━━━━━━━━━━━━━━━━━━━━━━━━━━━━━\u001b[0m \u001b[32m590.6/590.6 kB\u001b[0m \u001b[31m36.4 MB/s\u001b[0m eta \u001b[36m0:00:00\u001b[0m\n",
            "\u001b[2K   \u001b[90m━━━━━━━━━━━━━━━━━━━━━━━━━━━━━━━━━━━━━━━━\u001b[0m \u001b[32m7.2/7.2 MB\u001b[0m \u001b[31m115.7 MB/s\u001b[0m eta \u001b[36m0:00:00\u001b[0m\n",
            "\u001b[2K   \u001b[90m━━━━━━━━━━━━━━━━━━━━━━━━━━━━━━━━━━━━━━━━\u001b[0m \u001b[32m289.9/289.9 kB\u001b[0m \u001b[31m22.4 MB/s\u001b[0m eta \u001b[36m0:00:00\u001b[0m\n",
            "\u001b[2K   \u001b[90m━━━━━━━━━━━━━━━━━━━━━━━━━━━━━━━━━━━━━━━━\u001b[0m \u001b[32m113.9/113.9 kB\u001b[0m \u001b[31m9.4 MB/s\u001b[0m eta \u001b[36m0:00:00\u001b[0m\n",
            "\u001b[?25h  Building wheel for langdetect (setup.py) ... \u001b[?25l\u001b[?25hdone\n"
          ]
        },
        {
          "output_type": "stream",
          "name": "stderr",
          "text": [
            "[nltk_data] Downloading package punkt to /root/nltk_data...\n",
            "[nltk_data]   Unzipping tokenizers/punkt.zip.\n",
            "[nltk_data] Downloading package stopwords to /root/nltk_data...\n",
            "[nltk_data]   Unzipping corpora/stopwords.zip.\n",
            "[nltk_data] Downloading package wordnet to /root/nltk_data...\n",
            "[nltk_data] Downloading package averaged_perceptron_tagger to\n",
            "[nltk_data]     /root/nltk_data...\n",
            "[nltk_data]   Unzipping taggers/averaged_perceptron_tagger.zip.\n",
            "[nltk_data] Downloading package omw-1.4 to /root/nltk_data...\n"
          ]
        }
      ],
      "source": [
        "# --- Install Required Libraries ---\n",
        "!pip install nltk spacy beautifulsoup4 contractions emoji textblob langdetect pyspellchecker --quiet\n"
      ]
    },
    {
      "cell_type": "code",
      "source": [
        "sample_text = \"\"\"\n",
        "Hello there!!! I can't believe it's already 2025 😊. Visit us at https://www.example.com.\n",
        "<em>This is amazing!</em> Let's see how the @TextProcessor #works123.\n",
        "I've never been happier... EVER!!! 🥳🥳🥳\n",
        "\"\"\"\n",
        "\n",
        "print(\"Sample Text:\\n\", sample_text)\n"
      ],
      "metadata": {
        "colab": {
          "base_uri": "https://localhost:8080/"
        },
        "id": "O5NrXp0lCVGm",
        "outputId": "4fe06457-fa79-405e-898f-7d11820b3b16"
      },
      "execution_count": 2,
      "outputs": [
        {
          "output_type": "stream",
          "name": "stdout",
          "text": [
            "Sample Text:\n",
            " \n",
            "Hello there!!! I can't believe it's already 2025 😊. Visit us at https://www.example.com. \n",
            "<em>This is amazing!</em> Let's see how the @TextProcessor #works123. \n",
            "I've never been happier... EVER!!! 🥳🥳🥳\n",
            "\n"
          ]
        }
      ]
    },
    {
      "cell_type": "markdown",
      "source": [
        "## **NORMALIZATION**"
      ],
      "metadata": {
        "id": "GFZYObAqCcld"
      }
    },
    {
      "cell_type": "code",
      "source": [
        "#LOWERCASING\n",
        "#TO REDUCE NO OF WORDS IN THE VOCABULARY\n",
        "lower_case = sample_text.lower()\n",
        "lower_case"
      ],
      "metadata": {
        "colab": {
          "base_uri": "https://localhost:8080/",
          "height": 55
        },
        "id": "BXNSgKoVCg_s",
        "outputId": "668f2e01-524a-41a1-d3d6-2d8b77e447de"
      },
      "execution_count": 3,
      "outputs": [
        {
          "output_type": "execute_result",
          "data": {
            "text/plain": [
              "\"\\nhello there!!! i can't believe it's already 2025 😊. visit us at https://www.example.com. \\n<em>this is amazing!</em> let's see how the @textprocessor #works123. \\ni've never been happier... ever!!! 🥳🥳🥳\\n\""
            ],
            "application/vnd.google.colaboratory.intrinsic+json": {
              "type": "string"
            }
          },
          "metadata": {},
          "execution_count": 3
        }
      ]
    },
    {
      "cell_type": "code",
      "source": [
        "#CONTRACTION EXPANDSION\n",
        "#IMPROVES THE STAGE IN PHARSING, LEMMATIZATION\n",
        "\n",
        "import contractions\n",
        "\n",
        "cont = contractions.fix(sample_text)\n",
        "cont\n",
        "\n"
      ],
      "metadata": {
        "colab": {
          "base_uri": "https://localhost:8080/",
          "height": 55
        },
        "id": "ioaR7gjiC5HU",
        "outputId": "f3e940c3-a988-458f-e14a-b6e376619eac"
      },
      "execution_count": 4,
      "outputs": [
        {
          "output_type": "execute_result",
          "data": {
            "text/plain": [
              "'\\nHello there!!! I cannot believe it is already 2025 😊. Visit us at https://www.example.com. \\n<them>This is amazing!</them> Let us see how the @TextProcessor #works123. \\nI have never been happier... EVER!!! 🥳🥳🥳\\n'"
            ],
            "application/vnd.google.colaboratory.intrinsic+json": {
              "type": "string"
            }
          },
          "metadata": {},
          "execution_count": 4
        }
      ]
    },
    {
      "cell_type": "code",
      "source": [
        "#SPELLING CORRECTIONS\n",
        "#REDUCE THE SIZE OF VOCABULARY, IMPROVES WORD MATCHING AND EMBEDDING\n",
        "#CHECKS SPELLINGS NOT GRAMMER WISE SPELLINGS\n",
        "from textblob import TextBlob\n",
        "\n",
        "text_blob = TextBlob(\"I hag not copleted ths activty\")\n",
        "corrected_sentence = text_blob.correct()\n",
        "corrected_sentence"
      ],
      "metadata": {
        "colab": {
          "base_uri": "https://localhost:8080/"
        },
        "id": "LEJAC9ovDtLp",
        "outputId": "14b42984-8236-4946-98d1-a194f53f8e50"
      },
      "execution_count": 11,
      "outputs": [
        {
          "output_type": "execute_result",
          "data": {
            "text/plain": [
              "TextBlob(\"I had not completed the activity\")"
            ]
          },
          "metadata": {},
          "execution_count": 11
        }
      ]
    },
    {
      "cell_type": "code",
      "source": [
        "#REMOVING WHITESPACE\n",
        "import re\n",
        "\n",
        "cleaned = re.sub(r\"\\s+\",\" \",sample_text).strip()\n",
        "cleaned"
      ],
      "metadata": {
        "colab": {
          "base_uri": "https://localhost:8080/",
          "height": 55
        },
        "id": "JSSZMPC4E_DG",
        "outputId": "06654061-e00a-4a6d-d29a-4ea3a44b3ef3"
      },
      "execution_count": 13,
      "outputs": [
        {
          "output_type": "execute_result",
          "data": {
            "text/plain": [
              "\"Hello there!!! I can't believe it's already 2025 😊. Visit us at https://www.example.com. <em>This is amazing!</em> Let's see how the @TextProcessor #works123. I've never been happier... EVER!!! 🥳🥳🥳\""
            ],
            "application/vnd.google.colaboratory.intrinsic+json": {
              "type": "string"
            }
          },
          "metadata": {},
          "execution_count": 13
        }
      ]
    },
    {
      "cell_type": "markdown",
      "source": [
        "### **NOISE REMOVAL**"
      ],
      "metadata": {
        "id": "c7xnO0S4FsvO"
      }
    },
    {
      "cell_type": "code",
      "source": [
        "#REMOVING HTML TAGS\n",
        "from bs4 import BeautifulSoup\n",
        "\n",
        "text = BeautifulSoup(sample_text,\"html.parser\").get_text()\n",
        "text"
      ],
      "metadata": {
        "colab": {
          "base_uri": "https://localhost:8080/",
          "height": 55
        },
        "id": "HabdHuG6F1Ie",
        "outputId": "f4852020-8290-4a5d-b5a7-3549c85d16e7"
      },
      "execution_count": 14,
      "outputs": [
        {
          "output_type": "execute_result",
          "data": {
            "text/plain": [
              "\"\\nHello there!!! I can't believe it's already 2025 😊. Visit us at https://www.example.com. \\nThis is amazing! Let's see how the @TextProcessor #works123. \\nI've never been happier... EVER!!! 🥳🥳🥳\\n\""
            ],
            "application/vnd.google.colaboratory.intrinsic+json": {
              "type": "string"
            }
          },
          "metadata": {},
          "execution_count": 14
        }
      ]
    },
    {
      "cell_type": "code",
      "source": [
        "#REMOVING URLS\n",
        "\n",
        "text = re.sub(r\"http\\S+|www.\\S+|https\\S+\",\" \",text)\n",
        "text"
      ],
      "metadata": {
        "colab": {
          "base_uri": "https://localhost:8080/",
          "height": 55
        },
        "id": "MXDh84jMGa2F",
        "outputId": "1d969863-5b47-48d3-fed9-b59042cc3d2e"
      },
      "execution_count": 15,
      "outputs": [
        {
          "output_type": "execute_result",
          "data": {
            "text/plain": [
              "\"\\nHello there!!! I can't believe it's already 2025 😊. Visit us at   \\nThis is amazing! Let's see how the @TextProcessor #works123. \\nI've never been happier... EVER!!! 🥳🥳🥳\\n\""
            ],
            "application/vnd.google.colaboratory.intrinsic+json": {
              "type": "string"
            }
          },
          "metadata": {},
          "execution_count": 15
        }
      ]
    },
    {
      "cell_type": "code",
      "source": [
        "#REMOVING PUNCTUATIONS\n",
        "import string\n",
        "\n",
        "text = text.translate(str.maketrans('', '', string.punctuation))\n",
        "text"
      ],
      "metadata": {
        "colab": {
          "base_uri": "https://localhost:8080/",
          "height": 38
        },
        "id": "SRtHR1TAHARG",
        "outputId": "ee8c516d-7c11-447a-8ea7-1e856da8112a"
      },
      "execution_count": 16,
      "outputs": [
        {
          "output_type": "execute_result",
          "data": {
            "text/plain": [
              "'\\nHello there I cant believe its already 2025 😊 Visit us at   \\nThis is amazing Lets see how the TextProcessor works123 \\nIve never been happier EVER 🥳🥳🥳\\n'"
            ],
            "application/vnd.google.colaboratory.intrinsic+json": {
              "type": "string"
            }
          },
          "metadata": {},
          "execution_count": 16
        }
      ]
    },
    {
      "cell_type": "code",
      "source": [
        "#REMOVING EMOJIS\n",
        "\n",
        "import emoji\n",
        "\n",
        "text = emoji.replace_emoji(text,\"\")\n",
        "text"
      ],
      "metadata": {
        "colab": {
          "base_uri": "https://localhost:8080/",
          "height": 38
        },
        "id": "T60SdaLAHytK",
        "outputId": "7a1784a0-51df-481b-e2d6-d37a1e528405"
      },
      "execution_count": 18,
      "outputs": [
        {
          "output_type": "execute_result",
          "data": {
            "text/plain": [
              "'\\nHello there I cant believe its already 2025   Visit us at   \\nThis is amazing Lets see how the TextProcessor works123 \\nIve never been happier EVER    \\n'"
            ],
            "application/vnd.google.colaboratory.intrinsic+json": {
              "type": "string"
            }
          },
          "metadata": {},
          "execution_count": 18
        }
      ]
    },
    {
      "cell_type": "code",
      "source": [
        "#REMOVING NUMBERS\n",
        "\n",
        "text = re.sub(r\"\\d+\",\"\",text)\n",
        "text"
      ],
      "metadata": {
        "colab": {
          "base_uri": "https://localhost:8080/",
          "height": 38
        },
        "id": "Jy7rv7_JINTr",
        "outputId": "0baaee93-cbfe-4fde-854f-e29fd41b1454"
      },
      "execution_count": 19,
      "outputs": [
        {
          "output_type": "execute_result",
          "data": {
            "text/plain": [
              "'\\nHello there I cant believe its already    Visit us at   \\nThis is amazing Lets see how the TextProcessor works \\nIve never been happier EVER    \\n'"
            ],
            "application/vnd.google.colaboratory.intrinsic+json": {
              "type": "string"
            }
          },
          "metadata": {},
          "execution_count": 19
        }
      ]
    },
    {
      "cell_type": "code",
      "source": [
        "#REMOVE MENTIONS AND HASHTAGS\n",
        "\n",
        "text = re.sub(r\"[@#]\\w+\",\"\",text)\n",
        "text"
      ],
      "metadata": {
        "colab": {
          "base_uri": "https://localhost:8080/",
          "height": 38
        },
        "id": "xagcDzYtIdjM",
        "outputId": "ee69c7b0-bc03-4c51-ea46-4ddb6d0642c5"
      },
      "execution_count": 20,
      "outputs": [
        {
          "output_type": "execute_result",
          "data": {
            "text/plain": [
              "'\\nHello there I cant believe its already    Visit us at   \\nThis is amazing Lets see how the TextProcessor works \\nIve never been happier EVER    \\n'"
            ],
            "application/vnd.google.colaboratory.intrinsic+json": {
              "type": "string"
            }
          },
          "metadata": {},
          "execution_count": 20
        }
      ]
    },
    {
      "cell_type": "code",
      "source": [
        "#LANGUGE DETECT\n",
        "from langdetect import detect\n",
        "\n",
        "text = detect(text)\n",
        "text"
      ],
      "metadata": {
        "colab": {
          "base_uri": "https://localhost:8080/",
          "height": 38
        },
        "id": "r8H_Z9cWIv5k",
        "outputId": "b02e322d-af0c-41fa-a9ff-b37f65948bee"
      },
      "execution_count": 21,
      "outputs": [
        {
          "output_type": "execute_result",
          "data": {
            "text/plain": [
              "'en'"
            ],
            "application/vnd.google.colaboratory.intrinsic+json": {
              "type": "string"
            }
          },
          "metadata": {},
          "execution_count": 21
        }
      ]
    },
    {
      "cell_type": "code",
      "source": [
        "#REMOVING NON ASCII CHARACTERS\n",
        "text = re.sub(r'[^\\x00-\\x7F]+', '', sample_text)\n",
        "print(\"ASCII Only Text:\\n\", text)\n"
      ],
      "metadata": {
        "colab": {
          "base_uri": "https://localhost:8080/"
        },
        "id": "EFwMoMMOJC_E",
        "outputId": "b607d991-1b9f-4558-bbea-c9bcd39a5d45"
      },
      "execution_count": 23,
      "outputs": [
        {
          "output_type": "stream",
          "name": "stdout",
          "text": [
            "ASCII Only Text:\n",
            " \n",
            "Hello there!!! I can't believe it's already 2025 . Visit us at https://www.example.com. \n",
            "<em>This is amazing!</em> Let's see how the @TextProcessor #works123. \n",
            "I've never been happier... EVER!!! \n",
            "\n"
          ]
        }
      ]
    }
  ]
}