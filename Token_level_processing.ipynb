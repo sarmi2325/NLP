{
  "nbformat": 4,
  "nbformat_minor": 0,
  "metadata": {
    "colab": {
      "provenance": [],
      "authorship_tag": "ABX9TyPBdxA1owTttH0JDaqI7wHK",
      "include_colab_link": true
    },
    "kernelspec": {
      "name": "python3",
      "display_name": "Python 3"
    },
    "language_info": {
      "name": "python"
    }
  },
  "cells": [
    {
      "cell_type": "markdown",
      "metadata": {
        "id": "view-in-github",
        "colab_type": "text"
      },
      "source": [
        "<a href=\"https://colab.research.google.com/github/sarmi2325/NLP/blob/main/Token_level_processing.ipynb\" target=\"_parent\"><img src=\"https://colab.research.google.com/assets/colab-badge.svg\" alt=\"Open In Colab\"/></a>"
      ]
    },
    {
      "cell_type": "code",
      "source": [
        "# Download NLTK Resources\n",
        "import nltk\n",
        "nltk.download('punkt')\n",
        "nltk.download('punkt_tab')\n",
        "nltk.download('stopwords')\n",
        "nltk.download('wordnet')\n",
        "nltk.download('averaged_perceptron_tagger')\n",
        "nltk.download('omw-1.4')\n",
        "nltk.download('averaged_perceptron_tagger_eng')\n",
        "\n",
        "\n",
        "# Load spaCy model\n",
        "import spacy\n",
        "try:\n",
        "    nlp = spacy.load(\"en_core_web_sm\")\n",
        "except:\n",
        "    !python -m spacy download en_core_web_sm\n",
        "    nlp = spacy.load(\"en_core_web_sm\")"
      ],
      "metadata": {
        "colab": {
          "base_uri": "https://localhost:8080/"
        },
        "id": "DmDKDzTVSNg8",
        "outputId": "36ac3060-b0ee-432a-add1-ec94ae335e42"
      },
      "execution_count": 18,
      "outputs": [
        {
          "output_type": "stream",
          "name": "stderr",
          "text": [
            "[nltk_data] Downloading package punkt to /root/nltk_data...\n",
            "[nltk_data]   Package punkt is already up-to-date!\n",
            "[nltk_data] Downloading package punkt_tab to /root/nltk_data...\n",
            "[nltk_data]   Package punkt_tab is already up-to-date!\n",
            "[nltk_data] Downloading package stopwords to /root/nltk_data...\n",
            "[nltk_data]   Package stopwords is already up-to-date!\n",
            "[nltk_data] Downloading package wordnet to /root/nltk_data...\n",
            "[nltk_data]   Package wordnet is already up-to-date!\n",
            "[nltk_data] Downloading package averaged_perceptron_tagger to\n",
            "[nltk_data]     /root/nltk_data...\n",
            "[nltk_data]   Package averaged_perceptron_tagger is already up-to-\n",
            "[nltk_data]       date!\n",
            "[nltk_data] Downloading package omw-1.4 to /root/nltk_data...\n",
            "[nltk_data]   Package omw-1.4 is already up-to-date!\n",
            "[nltk_data] Downloading package averaged_perceptron_tagger_eng to\n",
            "[nltk_data]     /root/nltk_data...\n",
            "[nltk_data]   Unzipping taggers/averaged_perceptron_tagger_eng.zip.\n"
          ]
        }
      ]
    },
    {
      "cell_type": "code",
      "execution_count": 8,
      "metadata": {
        "id": "RJ6oCBTdQIga"
      },
      "outputs": [],
      "source": [
        "sample_text =\"Life is a beautiful journey filled with moments to cherish, lessons to learn, and experiences to share. It teaches us to be strong during tough times and to enjoy the small joys that come our way. Life is not always perfect, but it is always precious.\""
      ]
    },
    {
      "cell_type": "code",
      "source": [
        "#TOKENIZATION\n",
        "\n",
        "#nltk\n",
        "from nltk.tokenize import word_tokenize\n",
        "\n",
        "text = word_tokenize(sample_text)\n",
        "text"
      ],
      "metadata": {
        "colab": {
          "base_uri": "https://localhost:8080/"
        },
        "id": "lyGhnUp-RIKV",
        "outputId": "cdd4c5e1-1f99-474d-fd66-d91d92ebc6a4"
      },
      "execution_count": 9,
      "outputs": [
        {
          "output_type": "execute_result",
          "data": {
            "text/plain": [
              "['Life',\n",
              " 'is',\n",
              " 'a',\n",
              " 'beautiful',\n",
              " 'journey',\n",
              " 'filled',\n",
              " 'with',\n",
              " 'moments',\n",
              " 'to',\n",
              " 'cherish',\n",
              " ',',\n",
              " 'lessons',\n",
              " 'to',\n",
              " 'learn',\n",
              " ',',\n",
              " 'and',\n",
              " 'experiences',\n",
              " 'to',\n",
              " 'share',\n",
              " '.',\n",
              " 'It',\n",
              " 'teaches',\n",
              " 'us',\n",
              " 'to',\n",
              " 'be',\n",
              " 'strong',\n",
              " 'during',\n",
              " 'tough',\n",
              " 'times',\n",
              " 'and',\n",
              " 'to',\n",
              " 'enjoy',\n",
              " 'the',\n",
              " 'small',\n",
              " 'joys',\n",
              " 'that',\n",
              " 'come',\n",
              " 'our',\n",
              " 'way',\n",
              " '.',\n",
              " 'Life',\n",
              " 'is',\n",
              " 'not',\n",
              " 'always',\n",
              " 'perfect',\n",
              " ',',\n",
              " 'but',\n",
              " 'it',\n",
              " 'is',\n",
              " 'always',\n",
              " 'precious',\n",
              " '.']"
            ]
          },
          "metadata": {},
          "execution_count": 9
        }
      ]
    },
    {
      "cell_type": "code",
      "source": [
        "#spaCy\n",
        "doc  = nlp(sample_text)\n",
        "text1 = [tokens.text for tokens in doc]\n",
        "text1"
      ],
      "metadata": {
        "colab": {
          "base_uri": "https://localhost:8080/"
        },
        "id": "6QP2X1GkSf2c",
        "outputId": "a765b05e-244d-435a-df38-76ae71f231fc"
      },
      "execution_count": 10,
      "outputs": [
        {
          "output_type": "execute_result",
          "data": {
            "text/plain": [
              "['Life',\n",
              " 'is',\n",
              " 'a',\n",
              " 'beautiful',\n",
              " 'journey',\n",
              " 'filled',\n",
              " 'with',\n",
              " 'moments',\n",
              " 'to',\n",
              " 'cherish',\n",
              " ',',\n",
              " 'lessons',\n",
              " 'to',\n",
              " 'learn',\n",
              " ',',\n",
              " 'and',\n",
              " 'experiences',\n",
              " 'to',\n",
              " 'share',\n",
              " '.',\n",
              " 'It',\n",
              " 'teaches',\n",
              " 'us',\n",
              " 'to',\n",
              " 'be',\n",
              " 'strong',\n",
              " 'during',\n",
              " 'tough',\n",
              " 'times',\n",
              " 'and',\n",
              " 'to',\n",
              " 'enjoy',\n",
              " 'the',\n",
              " 'small',\n",
              " 'joys',\n",
              " 'that',\n",
              " 'come',\n",
              " 'our',\n",
              " 'way',\n",
              " '.',\n",
              " 'Life',\n",
              " 'is',\n",
              " 'not',\n",
              " 'always',\n",
              " 'perfect',\n",
              " ',',\n",
              " 'but',\n",
              " 'it',\n",
              " 'is',\n",
              " 'always',\n",
              " 'precious',\n",
              " '.']"
            ]
          },
          "metadata": {},
          "execution_count": 10
        }
      ]
    },
    {
      "cell_type": "markdown",
      "source": [
        "## **STOP WORD REMOVAL**"
      ],
      "metadata": {
        "id": "LKGN0lQ4TCIs"
      }
    },
    {
      "cell_type": "code",
      "source": [
        "#nltk\n",
        "from nltk.corpus import stopwords\n",
        "\n",
        "stop_words = set(stopwords.words('english'))\n",
        "cleaned_text =[words for words in text if words not in stop_words]\n",
        "cleaned_text"
      ],
      "metadata": {
        "colab": {
          "base_uri": "https://localhost:8080/"
        },
        "id": "YQmdSydpTJG3",
        "outputId": "3cafc9cb-6907-4852-cf81-32c4a705923f"
      },
      "execution_count": 11,
      "outputs": [
        {
          "output_type": "execute_result",
          "data": {
            "text/plain": [
              "['Life',\n",
              " 'beautiful',\n",
              " 'journey',\n",
              " 'filled',\n",
              " 'moments',\n",
              " 'cherish',\n",
              " ',',\n",
              " 'lessons',\n",
              " 'learn',\n",
              " ',',\n",
              " 'experiences',\n",
              " 'share',\n",
              " '.',\n",
              " 'It',\n",
              " 'teaches',\n",
              " 'us',\n",
              " 'strong',\n",
              " 'tough',\n",
              " 'times',\n",
              " 'enjoy',\n",
              " 'small',\n",
              " 'joys',\n",
              " 'come',\n",
              " 'way',\n",
              " '.',\n",
              " 'Life',\n",
              " 'always',\n",
              " 'perfect',\n",
              " ',',\n",
              " 'always',\n",
              " 'precious',\n",
              " '.']"
            ]
          },
          "metadata": {},
          "execution_count": 11
        }
      ]
    },
    {
      "cell_type": "code",
      "source": [
        "#spaCy\n",
        "\n",
        "cleaned_text1 = [tokens.text for tokens in doc if not tokens.is_stop]\n",
        "cleaned_text1"
      ],
      "metadata": {
        "colab": {
          "base_uri": "https://localhost:8080/"
        },
        "id": "IURC9InHUUW-",
        "outputId": "252b25fa-58d2-462b-87c8-041e9ac7d5ee"
      },
      "execution_count": 12,
      "outputs": [
        {
          "output_type": "execute_result",
          "data": {
            "text/plain": [
              "['Life',\n",
              " 'beautiful',\n",
              " 'journey',\n",
              " 'filled',\n",
              " 'moments',\n",
              " 'cherish',\n",
              " ',',\n",
              " 'lessons',\n",
              " 'learn',\n",
              " ',',\n",
              " 'experiences',\n",
              " 'share',\n",
              " '.',\n",
              " 'teaches',\n",
              " 'strong',\n",
              " 'tough',\n",
              " 'times',\n",
              " 'enjoy',\n",
              " 'small',\n",
              " 'joys',\n",
              " 'come',\n",
              " 'way',\n",
              " '.',\n",
              " 'Life',\n",
              " 'perfect',\n",
              " ',',\n",
              " 'precious',\n",
              " '.']"
            ]
          },
          "metadata": {},
          "execution_count": 12
        }
      ]
    },
    {
      "cell_type": "markdown",
      "source": [
        "## **STEMMING**"
      ],
      "metadata": {
        "id": "JfkE_jjbUoeE"
      }
    },
    {
      "cell_type": "code",
      "source": [
        "#nltk\n",
        "#Reduce words to their root form\n",
        "from nltk.stem import PorterStemmer\n",
        "\n",
        "s = PorterStemmer()\n",
        "filtered_text = [s.stem(token) for token in cleaned_text]\n",
        "filtered_text"
      ],
      "metadata": {
        "colab": {
          "base_uri": "https://localhost:8080/"
        },
        "id": "lhjQTTz1Ur6U",
        "outputId": "7e782a80-b823-4eee-acd1-400fd501cb6d"
      },
      "execution_count": 13,
      "outputs": [
        {
          "output_type": "execute_result",
          "data": {
            "text/plain": [
              "['life',\n",
              " 'beauti',\n",
              " 'journey',\n",
              " 'fill',\n",
              " 'moment',\n",
              " 'cherish',\n",
              " ',',\n",
              " 'lesson',\n",
              " 'learn',\n",
              " ',',\n",
              " 'experi',\n",
              " 'share',\n",
              " '.',\n",
              " 'it',\n",
              " 'teach',\n",
              " 'us',\n",
              " 'strong',\n",
              " 'tough',\n",
              " 'time',\n",
              " 'enjoy',\n",
              " 'small',\n",
              " 'joy',\n",
              " 'come',\n",
              " 'way',\n",
              " '.',\n",
              " 'life',\n",
              " 'alway',\n",
              " 'perfect',\n",
              " ',',\n",
              " 'alway',\n",
              " 'preciou',\n",
              " '.']"
            ]
          },
          "metadata": {},
          "execution_count": 13
        }
      ]
    },
    {
      "cell_type": "markdown",
      "source": [
        "## **LEMMATIZATION**"
      ],
      "metadata": {
        "id": "tv6sLWBUVm8w"
      }
    },
    {
      "cell_type": "code",
      "source": [
        "#nltk\n",
        "#Convert words to their dictionary form (with context).\n",
        "\n",
        "from nltk.stem import WordNetLemmatizer\n",
        "\n",
        "lemma = WordNetLemmatizer()\n",
        "filtered_text = [lemma.lemmatize(tokens) for tokens in cleaned_text]\n",
        "filtered_text"
      ],
      "metadata": {
        "colab": {
          "base_uri": "https://localhost:8080/"
        },
        "id": "7g5fPaa7Vs0T",
        "outputId": "4f62bb77-904f-42be-a036-5df1b528d023"
      },
      "execution_count": 14,
      "outputs": [
        {
          "output_type": "execute_result",
          "data": {
            "text/plain": [
              "['Life',\n",
              " 'beautiful',\n",
              " 'journey',\n",
              " 'filled',\n",
              " 'moment',\n",
              " 'cherish',\n",
              " ',',\n",
              " 'lesson',\n",
              " 'learn',\n",
              " ',',\n",
              " 'experience',\n",
              " 'share',\n",
              " '.',\n",
              " 'It',\n",
              " 'teach',\n",
              " 'u',\n",
              " 'strong',\n",
              " 'tough',\n",
              " 'time',\n",
              " 'enjoy',\n",
              " 'small',\n",
              " 'joy',\n",
              " 'come',\n",
              " 'way',\n",
              " '.',\n",
              " 'Life',\n",
              " 'always',\n",
              " 'perfect',\n",
              " ',',\n",
              " 'always',\n",
              " 'precious',\n",
              " '.']"
            ]
          },
          "metadata": {},
          "execution_count": 14
        }
      ]
    },
    {
      "cell_type": "code",
      "source": [
        "#spaCy\n",
        "\n",
        "# Re-process the original text with spaCy to get token objects\n",
        "doc = nlp(sample_text)\n",
        "\n",
        "# Filter out stop words and get the lemma for each token\n",
        "filtered_text1 = [token.lemma_ for token in doc if not token.is_stop]\n",
        "filtered_text1"
      ],
      "metadata": {
        "colab": {
          "base_uri": "https://localhost:8080/"
        },
        "id": "tHtjXfAMWgcf",
        "outputId": "bfe49dca-64e1-4f7e-8ddd-136daf69d4dd"
      },
      "execution_count": 16,
      "outputs": [
        {
          "output_type": "execute_result",
          "data": {
            "text/plain": [
              "['life',\n",
              " 'beautiful',\n",
              " 'journey',\n",
              " 'fill',\n",
              " 'moment',\n",
              " 'cherish',\n",
              " ',',\n",
              " 'lesson',\n",
              " 'learn',\n",
              " ',',\n",
              " 'experience',\n",
              " 'share',\n",
              " '.',\n",
              " 'teach',\n",
              " 'strong',\n",
              " 'tough',\n",
              " 'time',\n",
              " 'enjoy',\n",
              " 'small',\n",
              " 'joy',\n",
              " 'come',\n",
              " 'way',\n",
              " '.',\n",
              " 'life',\n",
              " 'perfect',\n",
              " ',',\n",
              " 'precious',\n",
              " '.']"
            ]
          },
          "metadata": {},
          "execution_count": 16
        }
      ]
    },
    {
      "cell_type": "markdown",
      "source": [
        "## **POS Tagging**"
      ],
      "metadata": {
        "id": "YdMX6kWcXLLl"
      }
    },
    {
      "cell_type": "code",
      "source": [
        "#Label words with their grammatical type (noun, verb, etc.)\n",
        "#nltk\n",
        "nltk_pos = nltk.pos_tag(filtered_text)\n",
        "nltk_pos"
      ],
      "metadata": {
        "colab": {
          "base_uri": "https://localhost:8080/"
        },
        "id": "QLMXeTHnXOam",
        "outputId": "5e479c7b-e8c6-465e-ba88-94eb99934e28"
      },
      "execution_count": 19,
      "outputs": [
        {
          "output_type": "execute_result",
          "data": {
            "text/plain": [
              "[('Life', 'NNP'),\n",
              " ('beautiful', 'JJ'),\n",
              " ('journey', 'NN'),\n",
              " ('filled', 'VBN'),\n",
              " ('moment', 'NN'),\n",
              " ('cherish', 'NN'),\n",
              " (',', ','),\n",
              " ('lesson', 'NN'),\n",
              " ('learn', 'NN'),\n",
              " (',', ','),\n",
              " ('experience', 'NN'),\n",
              " ('share', 'NN'),\n",
              " ('.', '.'),\n",
              " ('It', 'PRP'),\n",
              " ('teach', 'VBD'),\n",
              " ('u', 'JJ'),\n",
              " ('strong', 'JJ'),\n",
              " ('tough', 'JJ'),\n",
              " ('time', 'NN'),\n",
              " ('enjoy', 'VB'),\n",
              " ('small', 'JJ'),\n",
              " ('joy', 'NN'),\n",
              " ('come', 'JJ'),\n",
              " ('way', 'NN'),\n",
              " ('.', '.'),\n",
              " ('Life', 'NNP'),\n",
              " ('always', 'RB'),\n",
              " ('perfect', 'VBP'),\n",
              " (',', ','),\n",
              " ('always', 'RB'),\n",
              " ('precious', 'JJ'),\n",
              " ('.', '.')]"
            ]
          },
          "metadata": {},
          "execution_count": 19
        }
      ]
    },
    {
      "cell_type": "code",
      "source": [
        "#spaCy\n",
        "\n",
        "spacy_pos = [(token.text, token.pos_) for token in doc]\n",
        "spacy_pos"
      ],
      "metadata": {
        "colab": {
          "base_uri": "https://localhost:8080/"
        },
        "id": "F1p7BqjYXzBh",
        "outputId": "d57f7c91-6920-4b1f-ff4f-1bb069bcead9"
      },
      "execution_count": 21,
      "outputs": [
        {
          "output_type": "execute_result",
          "data": {
            "text/plain": [
              "[('Life', 'NOUN'),\n",
              " ('is', 'AUX'),\n",
              " ('a', 'DET'),\n",
              " ('beautiful', 'ADJ'),\n",
              " ('journey', 'NOUN'),\n",
              " ('filled', 'VERB'),\n",
              " ('with', 'ADP'),\n",
              " ('moments', 'NOUN'),\n",
              " ('to', 'ADP'),\n",
              " ('cherish', 'NOUN'),\n",
              " (',', 'PUNCT'),\n",
              " ('lessons', 'NOUN'),\n",
              " ('to', 'PART'),\n",
              " ('learn', 'VERB'),\n",
              " (',', 'PUNCT'),\n",
              " ('and', 'CCONJ'),\n",
              " ('experiences', 'NOUN'),\n",
              " ('to', 'PART'),\n",
              " ('share', 'VERB'),\n",
              " ('.', 'PUNCT'),\n",
              " ('It', 'PRON'),\n",
              " ('teaches', 'VERB'),\n",
              " ('us', 'PRON'),\n",
              " ('to', 'PART'),\n",
              " ('be', 'AUX'),\n",
              " ('strong', 'ADJ'),\n",
              " ('during', 'ADP'),\n",
              " ('tough', 'ADJ'),\n",
              " ('times', 'NOUN'),\n",
              " ('and', 'CCONJ'),\n",
              " ('to', 'PART'),\n",
              " ('enjoy', 'VERB'),\n",
              " ('the', 'DET'),\n",
              " ('small', 'ADJ'),\n",
              " ('joys', 'NOUN'),\n",
              " ('that', 'PRON'),\n",
              " ('come', 'VERB'),\n",
              " ('our', 'PRON'),\n",
              " ('way', 'NOUN'),\n",
              " ('.', 'PUNCT'),\n",
              " ('Life', 'NOUN'),\n",
              " ('is', 'AUX'),\n",
              " ('not', 'PART'),\n",
              " ('always', 'ADV'),\n",
              " ('perfect', 'ADJ'),\n",
              " (',', 'PUNCT'),\n",
              " ('but', 'CCONJ'),\n",
              " ('it', 'PRON'),\n",
              " ('is', 'AUX'),\n",
              " ('always', 'ADV'),\n",
              " ('precious', 'ADJ'),\n",
              " ('.', 'PUNCT')]"
            ]
          },
          "metadata": {},
          "execution_count": 21
        }
      ]
    },
    {
      "cell_type": "markdown",
      "source": [
        "## **NAME ENTITY RECOGNITION (NER)**"
      ],
      "metadata": {
        "id": "gvp8lC6xYPF2"
      }
    },
    {
      "cell_type": "code",
      "source": [
        "#spaCy\n",
        "#Recognize names, locations, dates, etc.\n",
        "t = \"india is a secular country from 1947\"\n",
        "t = nlp(t)\n",
        "spacy_ner = [(ent.text, ent.label_) for ent in t.ents]\n",
        "spacy_ner"
      ],
      "metadata": {
        "colab": {
          "base_uri": "https://localhost:8080/"
        },
        "id": "oT2KspaoYVTg",
        "outputId": "bf0ae42e-8b00-4b42-cd37-a32f3ca3451b"
      },
      "execution_count": 25,
      "outputs": [
        {
          "output_type": "execute_result",
          "data": {
            "text/plain": [
              "[('india', 'GPE'), ('1947', 'DATE')]"
            ]
          },
          "metadata": {},
          "execution_count": 25
        }
      ]
    },
    {
      "cell_type": "markdown",
      "source": [
        "## **SENTANCE SEGMENTATION**"
      ],
      "metadata": {
        "id": "OKffSmgmZlbv"
      }
    },
    {
      "cell_type": "code",
      "source": [
        "#nltk\n",
        "\n",
        "from nltk.tokenize import sent_tokenize\n",
        "\n",
        "sample = \"Life is a beautiful journey filled with moments to cherish, lessons to learn, and experiences to share. It teaches us to be strong during tough times and to enjoy the small joys that come our way. Life is not always perfect, but it is always precious.\"\n",
        "\n",
        "texts = sent_tokenize(sample)\n",
        "texts"
      ],
      "metadata": {
        "colab": {
          "base_uri": "https://localhost:8080/"
        },
        "id": "vNJE0dwTZpdV",
        "outputId": "307b7318-5fb5-4494-81cf-fca66b912047"
      },
      "execution_count": 26,
      "outputs": [
        {
          "output_type": "execute_result",
          "data": {
            "text/plain": [
              "['Life is a beautiful journey filled with moments to cherish, lessons to learn, and experiences to share.',\n",
              " 'It teaches us to be strong during tough times and to enjoy the small joys that come our way.',\n",
              " 'Life is not always perfect, but it is always precious.']"
            ]
          },
          "metadata": {},
          "execution_count": 26
        }
      ]
    },
    {
      "cell_type": "code",
      "source": [
        "d = nlp(sample)\n",
        "texts1 = [sent.text for sent in d.sents]\n",
        "texts1"
      ],
      "metadata": {
        "colab": {
          "base_uri": "https://localhost:8080/"
        },
        "id": "HYS-X4ikaW28",
        "outputId": "95dab7a4-d3b7-4bbc-9ed5-ee558cf280da"
      },
      "execution_count": 28,
      "outputs": [
        {
          "output_type": "execute_result",
          "data": {
            "text/plain": [
              "['Life is a beautiful journey filled with moments to cherish, lessons to learn, and experiences to share.',\n",
              " 'It teaches us to be strong during tough times and to enjoy the small joys that come our way.',\n",
              " 'Life is not always perfect, but it is always precious.']"
            ]
          },
          "metadata": {},
          "execution_count": 28
        }
      ]
    }
  ]
}