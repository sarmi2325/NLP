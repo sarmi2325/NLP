{
  "nbformat": 4,
  "nbformat_minor": 0,
  "metadata": {
    "colab": {
      "provenance": [],
      "authorship_tag": "ABX9TyOlNBJEyOcy7r7vZmmWSucq",
      "include_colab_link": true
    },
    "kernelspec": {
      "name": "python3",
      "display_name": "Python 3"
    },
    "language_info": {
      "name": "python"
    }
  },
  "cells": [
    {
      "cell_type": "markdown",
      "metadata": {
        "id": "view-in-github",
        "colab_type": "text"
      },
      "source": [
        "<a href=\"https://colab.research.google.com/github/sarmi2325/NLP/blob/main/Task_specific_techniques.ipynb\" target=\"_parent\"><img src=\"https://colab.research.google.com/assets/colab-badge.svg\" alt=\"Open In Colab\"/></a>"
      ]
    },
    {
      "cell_type": "markdown",
      "source": [
        "## **ngram Generation**"
      ],
      "metadata": {
        "id": "rA931YzHcJHG"
      }
    },
    {
      "cell_type": "code",
      "execution_count": 12,
      "metadata": {
        "colab": {
          "base_uri": "https://localhost:8080/",
          "height": 1000
        },
        "id": "fA6AF_Q6bk-r",
        "outputId": "e3ec73e4-c20d-4259-f619-1faf479056d9"
      },
      "outputs": [
        {
          "output_type": "display_data",
          "data": {
            "text/plain": [
              "[('Life', 'beautiful'),\n",
              " ('beautiful', 'journey'),\n",
              " ('journey', 'filled'),\n",
              " ('filled', 'moment'),\n",
              " ('moment', 'cherish'),\n",
              " ('cherish', ','),\n",
              " (',', 'lesson'),\n",
              " ('lesson', 'learn'),\n",
              " ('learn', ','),\n",
              " (',', 'experience'),\n",
              " ('experience', 'share'),\n",
              " ('share', '.'),\n",
              " ('.', 'It'),\n",
              " ('It', 'teach'),\n",
              " ('teach', 'u'),\n",
              " ('u', 'strong'),\n",
              " ('strong', 'tough'),\n",
              " ('tough', 'time'),\n",
              " ('time', 'enjoy'),\n",
              " ('enjoy', 'small'),\n",
              " ('small', 'joy'),\n",
              " ('joy', 'come'),\n",
              " ('come', 'way'),\n",
              " ('way', '.'),\n",
              " ('.', 'Life'),\n",
              " ('Life', 'always'),\n",
              " ('always', 'perfect'),\n",
              " ('perfect', ','),\n",
              " (',', 'always'),\n",
              " ('always', 'precious'),\n",
              " ('precious', '.')]"
            ]
          },
          "metadata": {}
        },
        {
          "output_type": "display_data",
          "data": {
            "text/plain": [
              "[('Life', 'beautiful', 'journey'),\n",
              " ('beautiful', 'journey', 'filled'),\n",
              " ('journey', 'filled', 'moment'),\n",
              " ('filled', 'moment', 'cherish'),\n",
              " ('moment', 'cherish', ','),\n",
              " ('cherish', ',', 'lesson'),\n",
              " (',', 'lesson', 'learn'),\n",
              " ('lesson', 'learn', ','),\n",
              " ('learn', ',', 'experience'),\n",
              " (',', 'experience', 'share'),\n",
              " ('experience', 'share', '.'),\n",
              " ('share', '.', 'It'),\n",
              " ('.', 'It', 'teach'),\n",
              " ('It', 'teach', 'u'),\n",
              " ('teach', 'u', 'strong'),\n",
              " ('u', 'strong', 'tough'),\n",
              " ('strong', 'tough', 'time'),\n",
              " ('tough', 'time', 'enjoy'),\n",
              " ('time', 'enjoy', 'small'),\n",
              " ('enjoy', 'small', 'joy'),\n",
              " ('small', 'joy', 'come'),\n",
              " ('joy', 'come', 'way'),\n",
              " ('come', 'way', '.'),\n",
              " ('way', '.', 'Life'),\n",
              " ('.', 'Life', 'always'),\n",
              " ('Life', 'always', 'perfect'),\n",
              " ('always', 'perfect', ','),\n",
              " ('perfect', ',', 'always'),\n",
              " (',', 'always', 'precious'),\n",
              " ('always', 'precious', '.')]"
            ]
          },
          "metadata": {}
        }
      ],
      "source": [
        "#SAMPLE TOKENS\n",
        "\n",
        "text = ['Life',\n",
        " 'beautiful',\n",
        " 'journey',\n",
        " 'filled',\n",
        " 'moment',\n",
        " 'cherish',\n",
        " ',',\n",
        " 'lesson',\n",
        " 'learn',\n",
        " ',',\n",
        " 'experience',\n",
        " 'share',\n",
        " '.',\n",
        " 'It',\n",
        " 'teach',\n",
        " 'u',\n",
        " 'strong',\n",
        " 'tough',\n",
        " 'time',\n",
        " 'enjoy',\n",
        " 'small',\n",
        " 'joy',\n",
        " 'come',\n",
        " 'way',\n",
        " '.',\n",
        " 'Life',\n",
        " 'always',\n",
        " 'perfect',\n",
        " ',',\n",
        " 'always',\n",
        " 'precious',\n",
        " '.']\n",
        "\n",
        "import nltk\n",
        "from nltk.util import ngrams\n",
        "\n",
        "\n",
        "bigram = list(ngrams(text,2))\n",
        "trigram = list(ngrams(text,3))\n",
        "\n",
        "display(bigram)\n",
        "display(trigram)"
      ]
    },
    {
      "cell_type": "markdown",
      "source": [
        "## **TRANSLITERATION**"
      ],
      "metadata": {
        "id": "ly-M007uefjU"
      }
    },
    {
      "cell_type": "code",
      "source": [
        "!pip install unidecode --quiet\n",
        "#CHANGING LANG WITHOUT AFFECTING PRONOUNCIATION\n",
        "from unidecode import unidecode\n",
        "\n",
        "hindi_text = \"नमस्ते दुनिया\"\n",
        "transliterated = unidecode(hindi_text)\n",
        "print(transliterated)\n",
        "\n"
      ],
      "metadata": {
        "colab": {
          "base_uri": "https://localhost:8080/"
        },
        "id": "sY6YDPgWekuD",
        "outputId": "402cb331-d462-4dfc-830b-f19de47a0085"
      },
      "execution_count": 16,
      "outputs": [
        {
          "output_type": "stream",
          "name": "stdout",
          "text": [
            "nmste duniyaa\n"
          ]
        }
      ]
    },
    {
      "cell_type": "markdown",
      "source": [
        "## **BUILDING VOCABULARY**"
      ],
      "metadata": {
        "id": "xgk7H_BqfZ1r"
      }
    },
    {
      "cell_type": "code",
      "source": [
        "from collections import Counter\n",
        "\n",
        "word_freq = Counter(text)\n",
        "print(\"Top 10 Most Common Words:\", word_freq.most_common(10))\n"
      ],
      "metadata": {
        "colab": {
          "base_uri": "https://localhost:8080/"
        },
        "id": "8SOgMxUlfkD8",
        "outputId": "cd1e386e-d2d6-4d6b-e3b6-becf61286180"
      },
      "execution_count": 17,
      "outputs": [
        {
          "output_type": "stream",
          "name": "stdout",
          "text": [
            "Top 10 Most Common Words: [(',', 3), ('.', 3), ('Life', 2), ('always', 2), ('beautiful', 1), ('journey', 1), ('filled', 1), ('moment', 1), ('cherish', 1), ('lesson', 1)]\n"
          ]
        }
      ]
    },
    {
      "cell_type": "markdown",
      "source": [
        "## **WORD FREQUENCY PLOT**"
      ],
      "metadata": {
        "id": "oD_0vYPXfsLL"
      }
    },
    {
      "cell_type": "code",
      "source": [
        "import matplotlib.pyplot as plt\n",
        "\n",
        "most_common = word_freq.most_common(10)\n",
        "words, freqs = zip(*most_common)\n",
        "\n",
        "plt.figure(figsize=(10, 5))\n",
        "plt.bar(words, freqs)\n",
        "plt.title(\"Top 10 Most Frequent Words\")\n",
        "plt.ylabel(\"Frequency\")\n",
        "plt.xlabel(\"Word\")\n",
        "plt.xticks(rotation=45)\n",
        "plt.show()\n"
      ],
      "metadata": {
        "colab": {
          "base_uri": "https://localhost:8080/",
          "height": 527
        },
        "id": "PMzRSGvEfrjC",
        "outputId": "de22bbc6-4cfc-4021-ca6f-28cafeeee18a"
      },
      "execution_count": 18,
      "outputs": [
        {
          "output_type": "display_data",
          "data": {
            "text/plain": [
              "<Figure size 1000x500 with 1 Axes>"
            ],
            "image/png": "[encoded data removed]"
          },
          "metadata": {}
        }
      ]
    }
  ]
}